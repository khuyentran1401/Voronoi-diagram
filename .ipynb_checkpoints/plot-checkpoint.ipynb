{
 "cells": [
  {
   "cell_type": "code",
   "execution_count": 1,
   "metadata": {
    "ExecuteTime": {
     "end_time": "2020-06-07T22:00:09.988213Z",
     "start_time": "2020-06-07T22:00:09.983003Z"
    }
   },
   "outputs": [],
   "source": [
    "import os\n",
    "import sys"
   ]
  },
  {
   "cell_type": "code",
   "execution_count": 2,
   "metadata": {
    "ExecuteTime": {
     "end_time": "2020-06-07T22:00:11.080780Z",
     "start_time": "2020-06-07T22:00:10.495233Z"
    }
   },
   "outputs": [],
   "source": [
    "import matplotlib.pyplot as plt \n",
    "from voronoid import *\n",
    "from drawvoronoid import *\n",
    "import matplotlib.path as path\n",
    "import matplotlib as mpl\n",
    "import smopy\n",
    "import pandas as pd\n",
    "%matplotlib inline\n",
    "import smopy\n",
    "from scipy.spatial import Voronoi \n",
    "import random"
   ]
  },
  {
   "cell_type": "code",
   "execution_count": 3,
   "metadata": {
    "ExecuteTime": {
     "end_time": "2020-06-07T22:00:11.084651Z",
     "start_time": "2020-06-07T22:00:11.081964Z"
    }
   },
   "outputs": [],
   "source": [
    "# decorater used to block function printing to the console\n",
    "def blockPrinting(func):\n",
    "    def func_wrapper(*args, **kwargs):\n",
    "        # block all printing to the console\n",
    "        sys.stdout = open(os.devnull, 'w')\n",
    "        # call the method in question\n",
    "        value = func(*args, **kwargs)\n",
    "        # enable all printing to the console\n",
    "        sys.stdout = sys.__stdout__\n",
    "        # pass the return value of the method back\n",
    "        return value\n",
    "\n",
    "    return func_wrapper"
   ]
  },
  {
   "cell_type": "code",
   "execution_count": 4,
   "metadata": {
    "ExecuteTime": {
     "end_time": "2020-06-07T22:00:11.923366Z",
     "start_time": "2020-06-07T22:00:11.834502Z"
    },
    "scrolled": true
   },
   "outputs": [
    {
     "name": "stdout",
     "output_type": "stream",
     "text": [
      "[]\n"
     ]
    },
    {
     "ename": "TypeError",
     "evalue": "plotVoronoi() takes 1 positional argument but 5 were given",
     "output_type": "error",
     "traceback": [
      "\u001b[0;31m---------------------------------------------------------------------------\u001b[0m",
      "\u001b[0;31mTypeError\u001b[0m                                 Traceback (most recent call last)",
      "\u001b[0;32m<ipython-input-4-ff3d9ccf96e1>\u001b[0m in \u001b[0;36m<module>\u001b[0;34m\u001b[0m\n\u001b[1;32m     58\u001b[0m     \u001b[0mprint\u001b[0m\u001b[0;34m(\u001b[0m\u001b[0mcur_points\u001b[0m\u001b[0;34m)\u001b[0m\u001b[0;34m\u001b[0m\u001b[0;34m\u001b[0m\u001b[0m\n\u001b[1;32m     59\u001b[0m     \u001b[0mcur_points\u001b[0m\u001b[0;34m.\u001b[0m\u001b[0mappend\u001b[0m\u001b[0;34m(\u001b[0m\u001b[0mpoints\u001b[0m\u001b[0;34m.\u001b[0m\u001b[0mpop\u001b[0m\u001b[0;34m(\u001b[0m\u001b[0;34m)\u001b[0m\u001b[0;34m)\u001b[0m\u001b[0;34m\u001b[0m\u001b[0;34m\u001b[0m\u001b[0m\n\u001b[0;32m---> 60\u001b[0;31m     \u001b[0mplotVoronoi\u001b[0m\u001b[0;34m(\u001b[0m\u001b[0mcur_points\u001b[0m\u001b[0;34m,\u001b[0m \u001b[0;34m-\u001b[0m\u001b[0;36m1\u001b[0m\u001b[0;34m,\u001b[0m \u001b[0;36m13\u001b[0m\u001b[0;34m,\u001b[0m \u001b[0;34m-\u001b[0m\u001b[0;36m1\u001b[0m\u001b[0;34m,\u001b[0m \u001b[0;36m11\u001b[0m\u001b[0;34m)\u001b[0m\u001b[0;34m\u001b[0m\u001b[0;34m\u001b[0m\u001b[0m\n\u001b[0m\u001b[1;32m     61\u001b[0m \u001b[0;34m\u001b[0m\u001b[0m\n",
      "\u001b[0;31mTypeError\u001b[0m: plotVoronoi() takes 1 positional argument but 5 were given"
     ]
    }
   ],
   "source": [
    "@blockPrinting\n",
    "def findRegion(points, xmin=None, xmax=None, ymin=None, ymax=None):    \n",
    "    new_regions = []\n",
    "    xmin, xmax, ymin, ymax, finalpoints, regions = voronoid(points, xmin, xmax, ymin, ymax)\n",
    "    regions = np.asarray(regions)\n",
    "    for region in regions:\n",
    "        region = np.asarray(region)\n",
    "        c = region.mean(axis=0)\n",
    "        angles = np.arctan2(region[:,1] - c[1], region[:,0] - c[0])\n",
    "        region = np.array(region)[np.argsort(angles)]\n",
    "        #polygon = vertices[region]\n",
    "        new_regions.append(region)\n",
    "    print(new_regions)\n",
    "        \n",
    "    return new_regions, finalpoints, xmin, xmax, ymin, ymax\n",
    "\n",
    "        \n",
    "        \n",
    "def plotVoronoi(points, xmin, xmax, ymin, ymax):\n",
    "    regions, finalpoints, xmin, xmax, ymin, ymax = findRegion(points, xmin, xmax, ymin, ymax)\n",
    "    for region in regions:\n",
    "        plt.fill(*zip(*region), alpha=0.4)\n",
    "        for ver in region:\n",
    "            plt.annotate('({:.2f},{:.2f})'.format(ver[0],ver[1]), (ver[0],ver[1]))\n",
    "    for p in finalpoints:\n",
    "        plt.annotate('({:.2f},{:.2f})'.format(p[0],p[1]), (p[0],p[1]))\n",
    "                \n",
    "                \n",
    "                \n",
    "        \n",
    "    plt.plot(finalpoints[:,0], finalpoints[:,1], 'ko')\n",
    "    #for p in finalpoints:\n",
    "    #    plt.annotate('({:.2f},{:.2f})'.format(p[0],p[1]), (p[0],p[1]))\n",
    "    plt.xlim(xmin - 0.1, xmax + 0.1)\n",
    "    plt.ylim(ymin - 0.1, ymax + 0.1)\n",
    "\n",
    "\n",
    "    plt.show()\n",
    "    \n",
    "\n",
    "#np.random.seed(10)\n",
    "#points = np.random.randint(0, 10,(5,2))\n",
    "#n = len(points)\n",
    "#points = [(x[0], x[1]) for x in points]\n",
    "points = [(0, 1), (1, 8), (9, 0), (9, 4), (10, 10)]\n",
    "n = len(points)\n",
    "points = list(set(points))\n",
    "\n",
    "xygraph = Xygraph(vl=points)\n",
    "xmin = xygraph.xmin - 1\n",
    "ymin = xygraph.ymin - 1\n",
    "v = (xmin, ymin)\n",
    "points.sort(key=lambda p: ((p[0]-v[0])**2 +\n",
    "                               (p[1]-v[1])**2)**(1/2), reverse=True)\n",
    "cur_points = []\n",
    "\n",
    "for i in range(n):\n",
    "    print(cur_points)\n",
    "    cur_points.append(points.pop())\n",
    "    plotVoronoi(cur_points, -1, 13, -1, 11)\n",
    "    \n"
   ]
  },
  {
   "cell_type": "code",
   "execution_count": 5,
   "metadata": {
    "ExecuteTime": {
     "end_time": "2020-06-07T21:35:12.503335Z",
     "start_time": "2020-06-07T21:35:12.339526Z"
    }
   },
   "outputs": [
    {
     "data": {
      "image/png": "[encoded data removed]",
      "text/plain": [
       "<Figure size 432x288 with 1 Axes>"
      ]
     },
     "metadata": {
      "needs_background": "light"
     },
     "output_type": "display_data"
    }
   ],
   "source": [
    "#points = [(0, 1), (1, 8), (2, 3), (1,3), (9, 0)]\n",
    "points = [(0, 1), (1, 8), (9, 0), (9, 4)]\n",
    "plotVoronoi(points)"
   ]
  },
  {
   "cell_type": "code",
   "execution_count": 7,
   "metadata": {
    "ExecuteTime": {
     "end_time": "2020-06-07T21:35:56.777140Z",
     "start_time": "2020-06-07T21:35:56.768607Z"
    }
   },
   "outputs": [
    {
     "data": {
      "text/plain": [
       "[(0, 1), (1, 8), (9, 0), (9, 4)]"
      ]
     },
     "execution_count": 7,
     "metadata": {},
     "output_type": "execute_result"
    }
   ],
   "source": [
    "cur_points"
   ]
  },
  {
   "cell_type": "code",
   "execution_count": 52,
   "metadata": {
    "ExecuteTime": {
     "end_time": "2020-06-03T00:29:53.696703Z",
     "start_time": "2020-06-03T00:29:53.688821Z"
    }
   },
   "outputs": [
    {
     "data": {
      "text/plain": [
       "[(0, 1), (9, 0), (1, 8), (9, 4)]"
      ]
     },
     "execution_count": 52,
     "metadata": {},
     "output_type": "execute_result"
    }
   ],
   "source": [
    "np.random.seed(10)\n",
    "points = np.random.randint(0, 10,(5,2))\n",
    "n = len(points)\n",
    "points = [(x[0], x[1]) for x in points]\n",
    "points = list(set(points))\n",
    "points\n"
   ]
  },
  {
   "cell_type": "code",
   "execution_count": null,
   "metadata": {
    "ExecuteTime": {
     "end_time": "2020-06-02T14:29:59.833083Z",
     "start_time": "2020-06-02T14:29:59.120Z"
    }
   },
   "outputs": [],
   "source": [
    "print('Points')\n",
    "print(vor.points)\n",
    "print(points)\n",
    "\n",
    "print('\\nVertices')\n",
    "print(vor.vertices)\n",
    "print(vertices)\n",
    "\n",
    "print('\\npoint_regionRidge points')\n",
    "print(vor.ridge_points);\n",
    "print(ridge_points)\n",
    "\n",
    "print('\\nRidge vertices')\n",
    "print(vor.ridge_vertices)\n",
    "print(ridge_vertices)\n",
    "\n",
    "print('\\nRegions')\n",
    "print(vor.regions)\n",
    "print(regions)\n",
    "\n",
    "print('\\nPoint region')\n",
    "print(vor.point_region)\n",
    "print(point_region)"
   ]
  },
  {
   "cell_type": "code",
   "execution_count": 26,
   "metadata": {
    "ExecuteTime": {
     "end_time": "2020-06-02T15:29:07.075647Z",
     "start_time": "2020-06-02T15:29:06.961672Z"
    },
    "code_folding": []
   },
   "outputs": [
    {
     "name": "stdout",
     "output_type": "stream",
     "text": [
      "{0: [(2, -1, 0), (1, -1, 0)], 2: [(0, -1, 0), (1, -1, 0)], 1: [(0, -1, 0), (2, -1, 0)]}\n",
      "vs [[ -1.5          0.5       ]\n",
      " [  5.57106781  -6.57106781]\n",
      " [-11.42277877  -0.74034735]]\n",
      "vs [[ -1.5          0.5       ]\n",
      " [-11.42277877  -0.74034735]\n",
      " [ -1.5         10.5       ]]\n",
      "vs [[-1.5         0.5       ]\n",
      " [ 5.57106781 -6.57106781]\n",
      " [-1.5        10.5       ]]\n",
      "[[1, 0, 2], [3, 0, 4], [0, 5, 6]]\n",
      "[[-1.5, 0.5], [5.571067811865475, -6.571067811865475], [-11.422778767136677, -0.7403473458920846], [-11.422778767136677, -0.7403473458920846], [-1.5, 10.5], [5.571067811865475, -6.571067811865475], [-1.5, 10.5]]\n",
      "--\n",
      "[[1, 0, 2], [3, 0, 4], [0, 5, 6]]\n",
      "--\n",
      "[[ -1.5          0.5       ]\n",
      " [  5.57106781  -6.57106781]\n",
      " [-11.42277877  -0.74034735]\n",
      " [-11.42277877  -0.74034735]\n",
      " [ -1.5         10.5       ]\n",
      " [  5.57106781  -6.57106781]\n",
      " [ -1.5         10.5       ]]\n",
      "\n",
      "\n",
      "[[  5.57106781  -6.57106781]\n",
      " [ -1.5          0.5       ]\n",
      " [-11.42277877  -0.74034735]]\n",
      "\n",
      " (5.571067811865475, -1.5, -11.422778767136677) (-6.571067811865475, 0.5, -0.7403473458920846)\n",
      "[[-11.42277877  -0.74034735]\n",
      " [ -1.5          0.5       ]\n",
      " [ -1.5         10.5       ]]\n",
      "\n",
      " (-11.422778767136677, -1.5, -1.5) (-0.7403473458920846, 0.5, 10.5)\n",
      "[[-1.5         0.5       ]\n",
      " [ 5.57106781 -6.57106781]\n",
      " [-1.5        10.5       ]]\n",
      "\n",
      " (-1.5, 5.571067811865475, -1.5) (0.5, -6.571067811865475, 10.5)\n"
     ]
    },
    {
     "data": {
      "image/png": "[encoded data removed]",
      "text/plain": [
       "<Figure size 432x288 with 1 Axes>"
      ]
     },
     "metadata": {
      "needs_background": "light"
     },
     "output_type": "display_data"
    }
   ],
   "source": [
    "def voronoi_finite_polygons_library(vor,radius=None):\n",
    "    \"\"\"\n",
    "    Reconstruct infinite voronoi regions in a 2D diagram to finite\n",
    "    regions.\n",
    "\n",
    "    Parameters\n",
    "    ----------\n",
    "    vor : Voronoi\n",
    "        Input diagram\n",
    "    radius : float, optional\n",
    "        Distance to 'points at infinity'.\n",
    "\n",
    "    Returns\n",
    "    -------\n",
    "    regions : list of tuples\n",
    "        Indices of vertices in each revised Voronoi regions.\n",
    "    vertices : list of tuples\n",
    "        Coordinates for revised Voronoi vertices. Same as coordinates\n",
    "        of input vertices, with 'points at infinity' appended to the\n",
    "        end.\n",
    "\n",
    "    \"\"\"\n",
    "\n",
    "    if vor.points.shape[1] != 2:\n",
    "        raise ValueError(\"Requires 2D input\")\n",
    "\n",
    "    new_regions = []\n",
    "    new_vertices = vor.vertices.tolist()\n",
    "\n",
    "    center = vor.points.mean(axis=0)\n",
    "    if radius is None:\n",
    "        radius = vor.points.ptp().max()\n",
    "\n",
    "    # Construct a map containing all ridges for a given point\n",
    "    all_ridges = {}\n",
    "    for (p1, p2), (v1, v2) in zip(vor.ridge_points, vor.ridge_vertices):\n",
    "        all_ridges.setdefault(p1, []).append((p2, v1, v2))\n",
    "        all_ridges.setdefault(p2, []).append((p1, v1, v2))\n",
    "        \n",
    "    print(all_ridges)\n",
    "\n",
    "    # Reconstruct infinite regions\n",
    "    for p1, region in enumerate(vor.point_region):\n",
    "        vertices = vor.regions[region]\n",
    "\n",
    "        if all(v >= 0 for v in vertices):\n",
    "            # finite region\n",
    "            new_regions.append(vertices)\n",
    "            continue\n",
    "\n",
    "        # reconstruct a non-finite region\n",
    "        ridges = all_ridges[p1]\n",
    "        new_region = [v for v in vertices if v >= 0]\n",
    "\n",
    "\n",
    "        for p2, v1, v2 in ridges:\n",
    "            if v2 < 0:\n",
    "                v1, v2 = v2, v1\n",
    "            if v1 >= 0:\n",
    "                # finite ridge: already in the region\n",
    "                continue\n",
    "\n",
    "            # Compute the missing endpoint of an infinite ridge\n",
    "\n",
    "            t = vor.points[p2] - vor.points[p1] # tangent\n",
    "            t /= np.linalg.norm(t)\n",
    "            n = np.array([-t[1], t[0]])  # normal\n",
    "\n",
    "            midpoint = vor.points[[p1, p2]].mean(axis=0)\n",
    "            direction = np.sign(np.dot(midpoint - center, n)) * n\n",
    "            far_point = vor.vertices[v2] + direction * radius\n",
    "\n",
    "            new_region.append(len(new_vertices))\n",
    "            new_vertices.append(far_point.tolist())\n",
    "        \n",
    "\n",
    "        # sort region counterclockwise\n",
    "        vs = np.asarray([new_vertices[v] for v in new_region])\n",
    "        print('vs', vs)\n",
    "        c = vs.mean(axis=0)\n",
    "        angles = np.arctan2(vs[:,1] - c[1], vs[:,0] - c[0])\n",
    "        new_region = np.array(new_region)[np.argsort(angles)]\n",
    "\n",
    "        # finish\n",
    "        new_regions.append(new_region.tolist())\n",
    "    print(new_regions)\n",
    "    print(new_vertices)\n",
    "\n",
    "    return new_regions, np.asarray(new_vertices)\n",
    "\n",
    "# plot\n",
    "regions, vertices = voronoi_finite_polygons_library(vor)\n",
    "print(\"--\")\n",
    "print(regions)\n",
    "print(\"--\")\n",
    "print(vertices)\n",
    "plt.clf\n",
    "\n",
    "print('\\n')\n",
    "# colorize\n",
    "for region in regions:\n",
    "    polygon = vertices[region]\n",
    "    print(vertices[region])\n",
    "    plt.fill(*zip(*polygon), alpha=0.4)\n",
    "    print('\\n',*zip(*polygon))\n",
    "\n",
    "plt.plot(points[:,0], points[:,1], 'ko')\n",
    "plt.xlim(vor.min_bound[0] - 0.1, vor.max_bound[0] + 0.1)\n",
    "plt.ylim(vor.min_bound[1] - 0.1, vor.max_bound[1] + 0.1)\n",
    "\n",
    "plt.show()"
   ]
  },
  {
   "cell_type": "code",
   "execution_count": 11,
   "metadata": {
    "ExecuteTime": {
     "end_time": "2020-06-07T19:57:27.730946Z",
     "start_time": "2020-06-07T19:57:27.727418Z"
    }
   },
   "outputs": [],
   "source": [
    "a = {1:['a'], 2:'b', 3:'c'}"
   ]
  },
  {
   "cell_type": "code",
   "execution_count": 12,
   "metadata": {
    "ExecuteTime": {
     "end_time": "2020-06-07T19:57:33.481291Z",
     "start_time": "2020-06-07T19:57:33.474603Z"
    }
   },
   "outputs": [],
   "source": [
    "a[1].append('b')"
   ]
  },
  {
   "cell_type": "code",
   "execution_count": 13,
   "metadata": {
    "ExecuteTime": {
     "end_time": "2020-06-07T19:57:39.522370Z",
     "start_time": "2020-06-07T19:57:39.513803Z"
    }
   },
   "outputs": [
    {
     "data": {
      "text/plain": [
       "{1: ['a', 'b'], 2: 'b', 3: 'c'}"
      ]
     },
     "execution_count": 13,
     "metadata": {},
     "output_type": "execute_result"
    }
   ],
   "source": [
    "a"
   ]
  },
  {
   "cell_type": "code",
   "execution_count": 14,
   "metadata": {
    "ExecuteTime": {
     "end_time": "2020-06-07T19:57:48.440991Z",
     "start_time": "2020-06-07T19:57:48.431697Z"
    }
   },
   "outputs": [
    {
     "data": {
      "text/plain": [
       "2"
      ]
     },
     "execution_count": 14,
     "metadata": {},
     "output_type": "execute_result"
    }
   ],
   "source": [
    "len(a[1])"
   ]
  },
  {
   "cell_type": "code",
   "execution_count": null,
   "metadata": {},
   "outputs": [],
   "source": []
  }
 ],
 "metadata": {
  "kernelspec": {
   "display_name": "Python 3.8.2 64-bit ('env1': conda)",
   "language": "python",
   "name": "python38264bitenv1conda236a152af1204565be747aba9f634041"
  },
  "language_info": {
   "codemirror_mode": {
    "name": "ipython",
    "version": 3
   },
   "file_extension": ".py",
   "mimetype": "text/x-python",
   "name": "python",
   "nbconvert_exporter": "python",
   "pygments_lexer": "ipython3",
   "version": "3.8.2"
  },
  "latex_envs": {
   "LaTeX_envs_menu_present": true,
   "autoclose": false,
   "autocomplete": true,
   "bibliofile": "biblio.bib",
   "cite_by": "apalike",
   "current_citInitial": 1,
   "eqLabelWithNumbers": true,
   "eqNumInitial": 1,
   "hotkeys": {
    "equation": "Ctrl-E",
    "itemize": "Ctrl-I"
   },
   "labels_anchors": false,
   "latex_user_defs": false,
   "report_style_numbering": false,
   "user_envs_cfg": false
  },
  "toc": {
   "base_numbering": 1,
   "nav_menu": {},
   "number_sections": true,
   "sideBar": true,
   "skip_h1_title": false,
   "title_cell": "Table of Contents",
   "title_sidebar": "Contents",
   "toc_cell": false,
   "toc_position": {},
   "toc_section_display": true,
   "toc_window_display": false
  }
 },
 "nbformat": 4,
 "nbformat_minor": 2
}
