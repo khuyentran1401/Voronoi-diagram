{
 "cells": [
  {
   "cell_type": "code",
   "execution_count": 1,
   "metadata": {
    "ExecuteTime": {
     "end_time": "2020-06-08T02:00:30.334937Z",
     "start_time": "2020-06-08T02:00:28.321688Z"
    }
   },
   "outputs": [
    {
     "name": "stdout",
     "output_type": "stream",
     "text": [
      "Collecting googlemaps\n",
      "  Downloading googlemaps-4.4.1.tar.gz (28 kB)\n",
      "Requirement already satisfied: requests<3.0,>=2.20.0 in /home/khuyentran/anaconda3/lib/python3.7/site-packages (from googlemaps) (2.23.0)\n",
      "Requirement already satisfied: chardet<4,>=3.0.2 in /home/khuyentran/anaconda3/lib/python3.7/site-packages (from requests<3.0,>=2.20.0->googlemaps) (3.0.4)\n",
      "Requirement already satisfied: idna<3,>=2.5 in /home/khuyentran/anaconda3/lib/python3.7/site-packages (from requests<3.0,>=2.20.0->googlemaps) (2.9)\n",
      "Requirement already satisfied: certifi>=2017.4.17 in /home/khuyentran/anaconda3/lib/python3.7/site-packages (from requests<3.0,>=2.20.0->googlemaps) (2020.4.5.1)\n",
      "Requirement already satisfied: urllib3!=1.25.0,!=1.25.1,<1.26,>=1.21.1 in /home/khuyentran/anaconda3/lib/python3.7/site-packages (from requests<3.0,>=2.20.0->googlemaps) (1.25.8)\n",
      "Building wheels for collected packages: googlemaps\n",
      "  Building wheel for googlemaps (setup.py) ... \u001b[?25ldone\n",
      "\u001b[?25h  Created wheel for googlemaps: filename=googlemaps-4.4.1-py3-none-any.whl size=37817 sha256=1d0edcac952ce2bdf96ddefaeb6ea854464bbd754accced3933e5a2ec557426a\n",
      "  Stored in directory: /home/khuyentran/.cache/pip/wheels/59/eb/61/bba46c3c7dcb0866d48fd67a0c406cc54b80559613449e25e5\n",
      "Successfully built googlemaps\n",
      "Installing collected packages: googlemaps\n",
      "Successfully installed googlemaps-4.4.1\n"
     ]
    }
   ],
   "source": [
    "!pip install googlemaps"
   ]
  },
  {
   "cell_type": "code",
   "execution_count": 4,
   "metadata": {
    "ExecuteTime": {
     "end_time": "2020-06-08T02:02:54.643691Z",
     "start_time": "2020-06-08T02:02:54.353433Z"
    }
   },
   "outputs": [],
   "source": [
    "import pandas as pd "
   ]
  },
  {
   "cell_type": "code",
   "execution_count": 5,
   "metadata": {
    "ExecuteTime": {
     "end_time": "2020-06-08T02:02:55.268892Z",
     "start_time": "2020-06-08T02:02:55.188814Z"
    }
   },
   "outputs": [],
   "source": [
    "hospitals = pd.read_csv('Hospitals.csv')\n",
    "\n",
    "address = hospitals.ADDRESS \n",
    "city = hospitals.CITY\n",
    "state = hospitals.STATE \n",
    "zips = hospitals.ZIP.astype('str')\n",
    "\n",
    "\n",
    "mapped = zip(address, city, state, zips)\n",
    "mapped = list(mapped)\n",
    "mapped\n",
    "\n",
    "locations = [','.join(loc) for loc in mapped]\n"
   ]
  },
  {
   "cell_type": "code",
   "execution_count": 6,
   "metadata": {
    "ExecuteTime": {
     "end_time": "2020-06-08T02:03:03.016604Z",
     "start_time": "2020-06-08T02:03:02.881134Z"
    }
   },
   "outputs": [
    {
     "ename": "ImportError",
     "evalue": "cannot import name 'GoogleMaps' from 'googlemaps' (/home/khuyentran/anaconda3/lib/python3.7/site-packages/googlemaps/__init__.py)",
     "output_type": "error",
     "traceback": [
      "\u001b[0;31m---------------------------------------------------------------------------\u001b[0m",
      "\u001b[0;31mImportError\u001b[0m                               Traceback (most recent call last)",
      "\u001b[0;32m<ipython-input-6-158cc9614e0e>\u001b[0m in \u001b[0;36m<module>\u001b[0;34m\u001b[0m\n\u001b[0;32m----> 1\u001b[0;31m \u001b[0;32mfrom\u001b[0m \u001b[0mgooglemaps\u001b[0m \u001b[0;32mimport\u001b[0m \u001b[0mGoogleMaps\u001b[0m\u001b[0;34m\u001b[0m\u001b[0;34m\u001b[0m\u001b[0m\n\u001b[0m\u001b[1;32m      2\u001b[0m \u001b[0mgmaps\u001b[0m \u001b[0;34m=\u001b[0m \u001b[0mGoogleMaps\u001b[0m\u001b[0;34m(\u001b[0m\u001b[0mAPI_KEY\u001b[0m\u001b[0;34m)\u001b[0m\u001b[0;34m\u001b[0m\u001b[0;34m\u001b[0m\u001b[0m\n\u001b[1;32m      3\u001b[0m \u001b[0mlat\u001b[0m\u001b[0;34m,\u001b[0m \u001b[0mlng\u001b[0m \u001b[0;34m=\u001b[0m \u001b[0mgmaps\u001b[0m\u001b[0;34m.\u001b[0m\u001b[0maddress_to_latlng\u001b[0m\u001b[0;34m(\u001b[0m\u001b[0mlocations\u001b[0m\u001b[0;34m[\u001b[0m\u001b[0;36m0\u001b[0m\u001b[0;34m]\u001b[0m\u001b[0;34m)\u001b[0m\u001b[0;34m\u001b[0m\u001b[0;34m\u001b[0m\u001b[0m\n",
      "\u001b[0;31mImportError\u001b[0m: cannot import name 'GoogleMaps' from 'googlemaps' (/home/khuyentran/anaconda3/lib/python3.7/site-packages/googlemaps/__init__.py)"
     ]
    }
   ],
   "source": [
    "from googlemaps import GoogleMaps\n",
    "gmaps = GoogleMaps(API_KEY)\n",
    "lat, lng = gmaps.address_to_latlng(locations[0])"
   ]
  },
  {
   "cell_type": "code",
   "execution_count": 7,
   "metadata": {
    "ExecuteTime": {
     "end_time": "2020-06-08T02:03:12.278045Z",
     "start_time": "2020-06-08T02:03:12.256785Z"
    }
   },
   "outputs": [
    {
     "ename": "ImportError",
     "evalue": "cannot import name 'GoogleMaps' from 'googlemaps' (/home/khuyentran/anaconda3/lib/python3.7/site-packages/googlemaps/__init__.py)",
     "output_type": "error",
     "traceback": [
      "\u001b[0;31m---------------------------------------------------------------------------\u001b[0m",
      "\u001b[0;31mImportError\u001b[0m                               Traceback (most recent call last)",
      "\u001b[0;32m<ipython-input-7-db49f1883b05>\u001b[0m in \u001b[0;36m<module>\u001b[0;34m\u001b[0m\n\u001b[0;32m----> 1\u001b[0;31m \u001b[0;32mfrom\u001b[0m \u001b[0mgooglemaps\u001b[0m \u001b[0;32mimport\u001b[0m \u001b[0mGoogleMaps\u001b[0m\u001b[0;34m\u001b[0m\u001b[0;34m\u001b[0m\u001b[0m\n\u001b[0m",
      "\u001b[0;31mImportError\u001b[0m: cannot import name 'GoogleMaps' from 'googlemaps' (/home/khuyentran/anaconda3/lib/python3.7/site-packages/googlemaps/__init__.py)"
     ]
    }
   ],
   "source": [
    "from googlemaps import GoogleMaps\n"
   ]
  },
  {
   "cell_type": "code",
   "execution_count": 8,
   "metadata": {
    "ExecuteTime": {
     "end_time": "2020-06-08T02:06:46.874724Z",
     "start_time": "2020-06-08T02:06:46.840729Z"
    }
   },
   "outputs": [
    {
     "name": "stdout",
     "output_type": "stream",
     "text": [
      "<class 'pandas.core.frame.DataFrame'>\n",
      "RangeIndex: 7581 entries, 0 to 7580\n",
      "Data columns (total 32 columns):\n",
      " #   Column      Non-Null Count  Dtype  \n",
      "---  ------      --------------  -----  \n",
      " 0   FID         7581 non-null   int64  \n",
      " 1   ID          7581 non-null   int64  \n",
      " 2   NAME        7581 non-null   object \n",
      " 3   ADDRESS     7581 non-null   object \n",
      " 4   CITY        7581 non-null   object \n",
      " 5   STATE       7581 non-null   object \n",
      " 6   ZIP         7581 non-null   int64  \n",
      " 7   ZIP4        7581 non-null   object \n",
      " 8   TELEPHONE   7581 non-null   object \n",
      " 9   TYPE        7581 non-null   object \n",
      " 10  STATUS      7581 non-null   object \n",
      " 11  POPULATION  7581 non-null   int64  \n",
      " 12  COUNTY      7581 non-null   object \n",
      " 13  COUNTYFIPS  7581 non-null   object \n",
      " 14  COUNTRY     7581 non-null   object \n",
      " 15  LATITUDE    7581 non-null   float64\n",
      " 16  LONGITUDE   7581 non-null   float64\n",
      " 17  NAICS_CODE  7581 non-null   int64  \n",
      " 18  NAICS_DESC  7581 non-null   object \n",
      " 19  SOURCE      7581 non-null   object \n",
      " 20  SOURCEDATE  7581 non-null   object \n",
      " 21  VAL_METHOD  7581 non-null   object \n",
      " 22  VAL_DATE    7581 non-null   object \n",
      " 23  WEBSITE     7581 non-null   object \n",
      " 24  STATE_ID    7581 non-null   object \n",
      " 25  ALT_NAME    7581 non-null   object \n",
      " 26  ST_FIPS     7581 non-null   int64  \n",
      " 27  OWNER       7581 non-null   object \n",
      " 28  TTL_STAFF   7581 non-null   int64  \n",
      " 29  BEDS        7581 non-null   int64  \n",
      " 30  TRAUMA      7581 non-null   object \n",
      " 31  HELIPAD     7581 non-null   object \n",
      "dtypes: float64(2), int64(8), object(22)\n",
      "memory usage: 1.9+ MB\n"
     ]
    }
   ],
   "source": [
    "hospitals.info()"
   ]
  },
  {
   "cell_type": "code",
   "execution_count": null,
   "metadata": {},
   "outputs": [],
   "source": []
  }
 ],
 "metadata": {
  "kernelspec": {
   "display_name": "Python 3",
   "language": "python",
   "name": "python3"
  },
  "language_info": {
   "codemirror_mode": {
    "name": "ipython",
    "version": 3
   },
   "file_extension": ".py",
   "mimetype": "text/x-python",
   "name": "python",
   "nbconvert_exporter": "python",
   "pygments_lexer": "ipython3",
   "version": "3.7.6"
  },
  "latex_envs": {
   "LaTeX_envs_menu_present": true,
   "autoclose": false,
   "autocomplete": true,
   "bibliofile": "biblio.bib",
   "cite_by": "apalike",
   "current_citInitial": 1,
   "eqLabelWithNumbers": true,
   "eqNumInitial": 1,
   "hotkeys": {
    "equation": "Ctrl-E",
    "itemize": "Ctrl-I"
   },
   "labels_anchors": false,
   "latex_user_defs": false,
   "report_style_numbering": false,
   "user_envs_cfg": false
  },
  "toc": {
   "base_numbering": 1,
   "nav_menu": {},
   "number_sections": true,
   "sideBar": true,
   "skip_h1_title": false,
   "title_cell": "Table of Contents",
   "title_sidebar": "Contents",
   "toc_cell": false,
   "toc_position": {},
   "toc_section_display": true,
   "toc_window_display": false
  }
 },
 "nbformat": 4,
 "nbformat_minor": 4
}
